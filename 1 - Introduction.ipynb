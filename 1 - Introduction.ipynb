{
 "cells": [
  {
   "cell_type": "markdown",
   "id": "cc4bdeb8",
   "metadata": {},
   "source": [
    "### What Is Linear Algebra and Why Learn It?"
   ]
  },
  {
   "cell_type": "markdown",
   "id": "2e03a290",
   "metadata": {},
   "source": [
    "Modern linear algebra is computational, whereas traditional linear algebra is abstract. Modern linear algebra is best learned through code and applications in graphics, statistics, data science, AI, and numerical simulations, whereas traditional linear algebra is learned through proofs and pondering infinite-dimensional vector spaces. Modern linear algebra provides the structural beams that support nearly every algorithm implemented on computers, whereas traditional linear algebra is often intellectual fodder for advanced mathematics university students."
   ]
  },
  {
   "cell_type": "markdown",
   "id": "39575a52",
   "metadata": {},
   "source": [
    "### Mathematical Proofs Versus Intuition from Coding"
   ]
  },
  {
   "cell_type": "markdown",
   "id": "c6eb7926",
   "metadata": {},
   "source": [
    "The purpose of studying math is, well, to understand math. How do you understand math? Let us count the ways:"
   ]
  },
  {
   "cell_type": "markdown",
   "id": "9641082a",
   "metadata": {},
   "source": [
    "- __Rigorous proofs:__ A proof in mathematics is a sequence of statements showing that a set of assump‐\n",
    "tions leads to a logical conclusion. Proofs are unquestionably important in pure mathematics.\n",
    "- __Visualizations and examples:__ Clearly written explanations, diagrams, and numerical examples help you gain intuition for concepts and operations in linear algebra. Most examples are done in 2D or 3D for easy visualization, but the principles also apply to higher\n",
    "dimensions."
   ]
  },
  {
   "cell_type": "markdown",
   "id": "dc0bcd16",
   "metadata": {},
   "source": [
    "The difference between these is that formal mathematical proofs provide rigor but rarely intuition, whereas visualizations and examples provide lasting intuition through hands-on experience but can risk inaccuracies based on specific examples\n",
    "that do not generalize."
   ]
  },
  {
   "cell_type": "markdown",
   "id": "44bb2fbe",
   "metadata": {},
   "source": [
    "A quick example: we will “soft-prove” the commutivity principle of multiplication, which states that a × b = b × a:"
   ]
  },
  {
   "cell_type": "code",
   "execution_count": 4,
   "id": "a1df7aa6",
   "metadata": {},
   "outputs": [
    {
     "data": {
      "text/plain": [
       "0.0"
      ]
     },
     "execution_count": 4,
     "metadata": {},
     "output_type": "execute_result"
    }
   ],
   "source": [
    "import numpy as np\n",
    "\n",
    "# Generate random values for variables 'a' and 'b' from a standard normal distribution\n",
    "a = np.random.randn() \n",
    "b = np.random.randn()\n",
    "\n",
    "# Perform the operation (a*b - b*a) and print the result\n",
    "a*b - b*a"
   ]
  },
  {
   "cell_type": "markdown",
   "id": "8d13ad04",
   "metadata": {},
   "source": [
    "To be clear: intuition from code is no substitute for a rigorous mathematical proof. The point is that “soft proofs” allow you to understand mathematical concepts without having to worry about the details of abstract mathematical syntax and arguments. This is particularly advantageous to coders who lack an advanced mathe‐\n",
    "matics background."
   ]
  }
 ],
 "metadata": {
  "kernelspec": {
   "display_name": "Python 3 (ipykernel)",
   "language": "python",
   "name": "python3"
  },
  "language_info": {
   "codemirror_mode": {
    "name": "ipython",
    "version": 3
   },
   "file_extension": ".py",
   "mimetype": "text/x-python",
   "name": "python",
   "nbconvert_exporter": "python",
   "pygments_lexer": "ipython3",
   "version": "3.10.9"
  }
 },
 "nbformat": 4,
 "nbformat_minor": 5
}
